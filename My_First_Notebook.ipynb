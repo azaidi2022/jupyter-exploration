{
 "cells": [
  {
   "cell_type": "markdown",
   "id": "fe9d4ce5-4f1f-4360-ae26-75c67b008902",
   "metadata": {},
   "source": [
    "My first Markdown cell in Jupyter. A Jupyter notebook comes with 3 types of cells, which are text input fields: code cells, markdown cells, and raw cells.\n",
    "The default type of cell is the code cell. If you want to change it to another type of cell, you can navigate to the toolbar, click where it says \"code\", and select the type of cell you desire. To use a shortcut, you can hit \"esc\" and \"m\" for markdown and \"esc\" and \"y\" for code. If you want to run the contents of the cell, you can navigate to the toolbar and click the triangle \"run\" button or typing \"shift\"-\"enter\". To creat a cell, you can type \"esc\"-\"a\" to create a cell above and \"esc\"-\"b\" to create a cell below."
   ]
  },
  {
   "cell_type": "code",
   "execution_count": 2,
   "id": "b134f36e-a41e-4b64-b1ac-d7bc78a19290",
   "metadata": {
    "tags": []
   },
   "outputs": [
    {
     "name": "stdout",
     "output_type": "stream",
     "text": [
      "Hello World!\n"
     ]
    }
   ],
   "source": [
    "print(\"Hello World!\")"
   ]
  }
 ],
 "metadata": {
  "kernelspec": {
   "display_name": "Python 3 (ipykernel)",
   "language": "python",
   "name": "python3"
  },
  "language_info": {
   "codemirror_mode": {
    "name": "ipython",
    "version": 3
   },
   "file_extension": ".py",
   "mimetype": "text/x-python",
   "name": "python",
   "nbconvert_exporter": "python",
   "pygments_lexer": "ipython3",
   "version": "3.11.5"
  }
 },
 "nbformat": 4,
 "nbformat_minor": 5
}
